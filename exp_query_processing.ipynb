{
 "cells": [
  {
   "cell_type": "markdown",
   "source": [
    "## Query Processing Experiment"
   ],
   "metadata": {
    "collapsed": false
   }
  },
  {
   "cell_type": "code",
   "execution_count": 1,
   "outputs": [],
   "source": [
    "import functools\n",
    "import pickle\n",
    "from ast import literal_eval\n",
    "\n",
    "import matplotlib.pyplot as plt\n",
    "import matplotlib.ticker as mtick\n",
    "import pandas as pd\n",
    "import seaborn as sns\n",
    "\n",
    "from dataset_configuration.airbnb.experiment_scripts.aqp_queries import airbnb_aqp_queries\n",
    "from dataset_configuration.imdb.experiment_scripts.aqp_queries import imdb_aqp_queries\n",
    "from evaluation.approximate_query_processing.aqp_queries import Aggregation\n",
    "from evaluation.notebook_utils.bar_plots import shared_bar_plots, FontSizes\n",
    "from evaluation.notebook_utils.combine_files import combine_files\n",
    "from evaluation.notebook_utils.evaluation_columns import eval_column, Metric\n",
    "from evaluation.notebook_utils.plotting_query import PlottingQuery\n",
    "\n",
    "\n",
    "plt.rc('text', usetex=True)\n",
    "\n",
    "default_alpha = 0.7\n",
    "figsize = (15,2)\n",
    "\n",
    "colors = [\n",
    "    sns.color_palette()[0],\n",
    "    sns.color_palette()[1],\n",
    "    sns.color_palette()[3],\n",
    "    \"#34495e\"\n",
    "]\n",
    "large_fonts = FontSizes(ticks=14, legend=14, labels=14,subtitle=14, bar_labels=10)\n",
    "formatter = mtick.PercentFormatter(xmax=1, decimals=1, symbol='%', is_latex=False)"
   ],
   "metadata": {
    "collapsed": false,
    "pycharm": {
     "name": "#%%\n"
    }
   }
  },
  {
   "cell_type": "code",
   "execution_count": 2,
   "outputs": [
    {
     "name": "stdout",
     "output_type": "stream",
     "text": [
      "Combining 3968 files\n",
      "Combining 5632 files\n"
     ]
    }
   ],
   "source": [
    "combine_files('experiment_data/exp_aqp_airbnb/part*', 'experiment_data/exp_aqp_airbnb/exp_aqp.csv')\n",
    "combine_files('experiment_data/exp_aqp_imdb/part*', 'experiment_data/exp_aqp_imdb/exp_aqp.csv')"
   ],
   "metadata": {
    "collapsed": false,
    "pycharm": {
     "name": "#%%\n"
    }
   }
  },
  {
   "cell_type": "code",
   "execution_count": 3,
   "outputs": [
    {
     "name": "stdout",
     "output_type": "stream",
     "text": [
      "Adding qp_improvement\n"
     ]
    }
   ],
   "source": [
    "df_exp = pd.concat([\n",
    "    pd.read_csv('experiment_data/exp_aqp_airbnb/exp_aqp.csv'),\n",
    "    pd.read_csv('experiment_data/exp_aqp_imdb/exp_aqp.csv'),\n",
    "])\n",
    "\n",
    "for m in [Metric.QP_IMPROVEMENT]:\n",
    "    print(f'Adding {m}')\n",
    "    df_exp[str(m)] = df_exp.apply(lambda r: eval_column(r, metric=m), axis=1)\n",
    "\n",
    "df_exp.removal_attr = df_exp.apply(lambda r: literal_eval(r.removal_attr)[0], axis=1)\n",
    "df_exp.removal_attr_bias = df_exp.apply(lambda r: literal_eval(r.removal_attr_bias)[0], axis=1)\n",
    "df_exp.tuple_removal_keep_rate = df_exp.apply(lambda r: literal_eval(r.tuple_removal_keep_rate)[0], axis=1)\n",
    "df_exp['completion_table_list'] = df_exp.apply(lambda r: set(literal_eval(r.completion_tables)), axis=1)\n",
    "\n",
    "removal_attrs_airbnb = ['listings.price', 'listings.room_type', 'listings.property_type', 'hosts.host_since', 'hosts.host_response_rate']\n",
    "removal_attrs_imdb = ['movie.production_year', 'movie.genre', 'movie.country', 'director.birth_year', 'company.country_code']\n",
    "removal_attrs = set(removal_attrs_airbnb).union(removal_attrs_imdb)\n",
    "\n",
    "df_exp['improvement'] = 0"
   ],
   "metadata": {
    "collapsed": false,
    "pycharm": {
     "name": "#%%\n"
    }
   }
  },
  {
   "cell_type": "code",
   "execution_count": 4,
   "outputs": [
    {
     "name": "stdout",
     "output_type": "stream",
     "text": [
      "34\n"
     ]
    }
   ],
   "source": [
    "with open('../research-data/incomplete-db/airbnb/hdf_preprocessed/meta_data.pkl', 'rb') as handle:\n",
    "    airbnb_meta_data = pickle.load(handle)\n",
    "with open('../research-data/incomplete-db/imdb/hdf_preprocessed/meta_data.pkl', 'rb') as handle:\n",
    "    imdb_meta_data = pickle.load(handle)\n",
    "\n",
    "general_value_dict = {}\n",
    "def merge_value_dict(general_value_dict, meta_data):\n",
    "    for t in meta_data.values():\n",
    "        for attribute_name, value_dict in t['categorical_columns_dict'].items():\n",
    "            inv_dict = {v:k for k,v in value_dict.items()}\n",
    "            general_value_dict[attribute_name] = inv_dict\n",
    "merge_value_dict(general_value_dict, airbnb_meta_data)\n",
    "merge_value_dict(general_value_dict, imdb_meta_data)\n",
    "del general_value_dict['hosts.host_response_time']\n",
    "\n",
    "qp_queries = []\n",
    "qp_query_dict = dict()\n",
    "for dataset_queries in [airbnb_aqp_queries, imdb_aqp_queries]:\n",
    "    for attribute, queries in dataset_queries.items():\n",
    "        for id, query in queries.items():\n",
    "            for aggregation in Aggregation:\n",
    "                if attribute not in removal_attrs:\n",
    "                    continue\n",
    "                if aggregation != Aggregation.COUNT and query.aggregation_attribute is None:\n",
    "                    continue\n",
    "                query_object = PlottingQuery(id, attribute, aggregation, query, general_value_dict)\n",
    "                qp_queries.append(query_object)\n",
    "                qp_query_dict[(attribute, id, aggregation)] = query_object\n",
    "\n",
    "print(len(qp_queries))"
   ],
   "metadata": {
    "collapsed": false,
    "pycharm": {
     "name": "#%%\n"
    }
   }
  },
  {
   "cell_type": "code",
   "execution_count": 7,
   "outputs": [],
   "source": [
    "def extract_improvement(row, query=None):\n",
    "    improvements = row['qp_improvement']\n",
    "    if query.id not in improvements.keys():\n",
    "        print(f'Query {query.id} not provided in row')\n",
    "        return 0\n",
    "\n",
    "    improvements = improvements[query.id]\n",
    "\n",
    "    improvement = 0\n",
    "    if query.aggregation == Aggregation.COUNT:\n",
    "        improvement = improvements[0]\n",
    "    elif query.aggregation == Aggregation.AVG:\n",
    "        improvement = improvements[1]\n",
    "    elif query.aggregation == Aggregation.SUM:\n",
    "        improvement = improvements[2]\n",
    "    return improvement\n",
    "\n",
    "def y_aqp_improvement(series_idx, plot_idx, queries=None, df_exp=None, keep_rates=None, **kwargs):\n",
    "    query = queries[plot_idx]\n",
    "    keep_rate = keep_rates[series_idx]\n",
    "\n",
    "    df_current = df_exp\n",
    "    df_current = df_current[df_current.tuple_removal_keep_rate == keep_rate]\n",
    "    df_current = df_current[df_current.removal_attr == query.attribute]\n",
    "    df_current = df_current[df_current.completion_table_list == query.completion_tables]\n",
    "\n",
    "    df_current = df_current[['qp_improvement', 'removal_attr_bias']]\n",
    "    improvements =  df_current.apply(functools.partial(extract_improvement, query=query), axis=1)\n",
    "    try:\n",
    "        df_current['improvement'] = improvements\n",
    "        df_current = df_current[['improvement', 'removal_attr_bias']].groupby(['removal_attr_bias']).max().reset_index()\n",
    "        df_current = df_current.sort_values(['removal_attr_bias'])\n",
    "\n",
    "        return df_current['improvement']\n",
    "\n",
    "    except:\n",
    "        print(improvements)\n",
    "        print(df_current)\n",
    "        print(f'Problem evaluating query {query.id}')\n",
    "        # df_current['improvement'] = 0\n",
    "\n",
    "    return [0, 0, 0, 0]\n",
    "\n",
    "df_qp = df_exp[(df_exp.model_selection_strategy == 'none') &\n",
    "                            (df_exp.not_synthetic == True)\n",
    "                            ]"
   ],
   "metadata": {
    "collapsed": false,
    "pycharm": {
     "name": "#%%\n"
    }
   }
  },
  {
   "cell_type": "markdown",
   "source": [
    "## Query Processing"
   ],
   "metadata": {
    "collapsed": false
   }
  },
  {
   "cell_type": "code",
   "execution_count": 8,
   "outputs": [
    {
     "name": "stdout",
     "output_type": "stream",
     "text": [
      "\n",
      "Housing & $H_1$ & $Q_{1}$ & \\texttt{SELECT SUM(price) FROM apartment WHERE room\\_type='Entire home/apt';} \\\\\n",
      "Housing & $H_2$ & $Q_{2}$ & \\texttt{SELECT COUNT(*) FROM apartment WHERE room\\_type='Entire home/apt' AND property\\_type='House' GROUP BY property\\_type;} \\\\\n",
      "Housing & $H_3$ & $Q_{3}$ & \\texttt{SELECT COUNT(*) FROM apartment WHERE property\\_type='House';} \\\\\n",
      "Housing & $H_4$ & $Q_{4}$ & \\texttt{SELECT COUNT(*) FROM landlord WHERE landlord\\_since$\\ge$2011;} \\\\\n",
      "Housing & $H_5$ & $Q_{5}$ & \\texttt{SELECT AVG(landlord\\_response\\_rate) FROM landlord WHERE landlord\\_response\\_time$\\ge$2;} \\\\\n",
      "Housing & $H_1$ & $Q_{6}$ & \\texttt{SELECT AVG(price) FROM landlord NATURAL JOIN apartment WHERE room\\_type='Entire home/apt' GROUP BY landlord\\_since;} \\\\\n",
      "Housing & $H_2$ & $Q_{7}$ & \\texttt{SELECT COUNT(*) FROM landlord NATURAL JOIN apartment WHERE accommodates$\\ge$3 GROUP BY landlord\\_since;} \\\\\n",
      "Housing & $H_3$ & $Q_{8}$ & \\texttt{SELECT COUNT(*) FROM landlord NATURAL JOIN apartment WHERE landlord\\_since$\\ge$2013 GROUP BY landlord\\_since;} \\\\\n",
      "Housing & $H_4$ & $Q_{9}$ & \\texttt{SELECT SUM(landlord\\_since) FROM landlord NATURAL JOIN apartment WHERE room\\_type='Entire home/apt' AND landlord\\_response\\_time$\\ge$2;} \\\\\n",
      "Housing & $H_5$ & $Q_{10}$ & \\texttt{SELECT AVG(landlord\\_response\\_rate) FROM landlord NATURAL JOIN apartment WHERE room\\_type='Entire home/apt' AND landlord\\_response\\_time$\\ge$2;} \\\\\n",
      "Movies & $M_1$ & $Q_{1}$ & \\texttt{SELECT COUNT(*) GROUP BY production\\_year;} \\\\\n",
      "Movies & $M_2$ & $Q_{2}$ & \\texttt{SELECT COUNT(*) FROM movie WHERE genre='Drama' GROUP BY production\\_year;} \\\\\n",
      "Movies & $M_3$ & $Q_{3}$ & \\texttt{SELECT COUNT(*) FROM movie WHERE genre='Drama' GROUP BY country;} \\\\\n",
      "Movies & $M_4$ & $Q_{4}$ & \\texttt{SELECT AVG(birth\\_year) FROM director WHERE gender='m';} \\\\\n",
      "Movies & $M_5$ & $Q_{5}$ & \\texttt{SELECT COUNT(*) FROM company WHERE country\\_code='[us]';} \\\\\n",
      "Movies & $M_1$ & $Q_{6}$ & \\texttt{SELECT SUM(production\\_year) FROM movie NATURAL JOIN movie\\_director NATURAL JOIN director WHERE birth\\_country='USA' GROUP BY production\\_year;} \\\\\n",
      "Movies & $M_2$ & $Q_{7}$ & \\texttt{SELECT COUNT(*) GROUP BY country\\_code;} \\\\\n",
      "Movies & $M_3$ & $Q_{8}$ & \\texttt{SELECT COUNT(*) FROM movie NATURAL JOIN movie\\_companies NATURAL JOIN company WHERE country\\_code='[us]' GROUP BY production\\_year;} \\\\\n",
      "Movies & $M_4$ & $Q_{9}$ & \\texttt{SELECT COUNT(*) FROM movie NATURAL JOIN movie\\_director NATURAL JOIN director WHERE gender='m';} \\\\\n",
      "Movies & $M_2$ & $Q_{10}$ & \\texttt{SELECT COUNT(*) FROM movie NATURAL JOIN movie\\_companies NATURAL JOIN company WHERE country\\_code='[us]' GROUP BY production\\_year;} \\\\\n",
      "\n"
     ]
    },
    {
     "data": {
      "text/plain": "<Figure size 1080x432 with 20 Axes>",
      "image/png": "[encoded data removed]"
     },
     "metadata": {
      "needs_background": "light"
     },
     "output_type": "display_data"
    }
   ],
   "source": [
    "def setup_id(attribute):\n",
    "    if attribute in removal_attrs_airbnb:\n",
    "        return removal_attrs_airbnb.index(attribute) + 1\n",
    "    if attribute in removal_attrs_imdb:\n",
    "        return removal_attrs_imdb.index(attribute) + 1\n",
    "    return 0\n",
    "\n",
    "def plot_aqp_queries(queries, dataset, path, df_exp):\n",
    "    curr_aqp_queries = queries\n",
    "    print()\n",
    "    for i, q in enumerate(curr_aqp_queries):\n",
    "        sstr = q.paper_formatted_sql_string()\n",
    "        print(f\"{dataset[i]} & ${dataset[i][0]}_{setup_id(q.attribute)}$ & $Q_{{{(i%10+1)}}}$ & \\\\texttt{{{sstr}}} \\\\\\\\\")\n",
    "    print()\n",
    "\n",
    "    shared_bar_plots(no_plots=len(curr_aqp_queries), series_per_plot=4, y_data=y_aqp_improvement, font_sizes=large_fonts,\n",
    "                 ncols=5, width=0.2, labels=[f'Keep Rate: {keep_rate*100:.0f}\\%' for keep_rate in [0.2, 0.4, 0.6, 0.8]],\n",
    "                 titles=[f'{dataset[i]}: $Q_{{{(i%10+1)}}}$' for i,q in enumerate(curr_aqp_queries)],\n",
    "                 xticklabels=['20\\%', '40\\%', '60\\%', '80\\%'], keep_rates=[0.2, 0.4, 0.6, 0.8],\n",
    "                 y_label='Relative Error\\n Improvment', x_label='Removal Correlation', figsize=(15,6), df_exp=df_exp,\n",
    "                 default_alpha=default_alpha, colors=colors, queries=curr_aqp_queries,\n",
    "                 y_ax_formatter=formatter, sharey='none', save_path=path, x_tick_rotation=40, x_tick_bottom=0.0,\n",
    "                 x_tick_ha='center', legend=True, legend_bbox_to_anchor=(1.05, 5.5))\n",
    "\n",
    "df_exp = df_qp\n",
    "queries = [qp_query_dict[('listings.price', 1, Aggregation.SUM)],\n",
    "            qp_query_dict[('listings.room_type', 0, Aggregation.COUNT)],\n",
    "            qp_query_dict[('listings.property_type', 1, Aggregation.COUNT)],\n",
    "            qp_query_dict[('hosts.host_since', 2, Aggregation.COUNT)],\n",
    "            qp_query_dict[('hosts.host_response_rate', 1, Aggregation.AVG)],\n",
    "            qp_query_dict[('listings.price', 7, Aggregation.AVG)],\n",
    "            qp_query_dict[('listings.room_type', 5, Aggregation.COUNT)],\n",
    "            qp_query_dict[('listings.property_type', 3, Aggregation.COUNT)],\n",
    "            qp_query_dict[('hosts.host_since', 6, Aggregation.SUM)],\n",
    "            qp_query_dict[('hosts.host_response_rate', 6, Aggregation.AVG)],\n",
    "            qp_query_dict[('movie.production_year', 1, Aggregation.COUNT)],\n",
    "            qp_query_dict[('movie.genre', 0, Aggregation.COUNT)],\n",
    "            qp_query_dict[('movie.country', 2, Aggregation.COUNT)],\n",
    "            qp_query_dict[('director.birth_year', 0, Aggregation.AVG)],\n",
    "            qp_query_dict[('company.country_code', 1, Aggregation.COUNT)],\n",
    "            qp_query_dict[('movie.production_year', 4, Aggregation.SUM)],\n",
    "            qp_query_dict[('movie.genre', 5, Aggregation.COUNT)],\n",
    "            qp_query_dict[('movie.country', 4, Aggregation.COUNT)],\n",
    "            qp_query_dict[('director.birth_year', 4, Aggregation.COUNT)],\n",
    "            qp_query_dict[('movie.genre', 4, Aggregation.COUNT)]]\n",
    "plot_aqp_queries(queries, ['Housing']*10 + ['Movies']*10, 'experiment_data/plots/query_proc.pdf', df_exp)"
   ],
   "metadata": {
    "collapsed": false,
    "pycharm": {
     "name": "#%%\n"
    }
   }
  }
 ],
 "metadata": {
  "kernelspec": {
   "display_name": "Python 3",
   "language": "python",
   "name": "python3"
  },
  "language_info": {
   "codemirror_mode": {
    "name": "ipython",
    "version": 2
   },
   "file_extension": ".py",
   "mimetype": "text/x-python",
   "name": "python",
   "nbconvert_exporter": "python",
   "pygments_lexer": "ipython2",
   "version": "2.7.6"
  }
 },
 "nbformat": 4,
 "nbformat_minor": 0
}